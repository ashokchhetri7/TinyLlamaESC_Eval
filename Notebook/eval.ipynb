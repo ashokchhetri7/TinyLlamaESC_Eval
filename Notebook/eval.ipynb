{
 "cells": [
  {
   "cell_type": "code",
   "execution_count": 5,
   "metadata": {},
   "outputs": [],
   "source": [
    "import json, jsonlines\n",
    "from nlgmetricverse import NLGMetricverse, load_metric\n",
    "from sklearn.metrics import f1_score\n",
    "\n",
    "ESCONV_STRATEGY = [\n",
    "    \"[Question]\",\n",
    "    \"[Restatement or Paraphrasing]\",\n",
    "    \"[Reflection of feelings]\",\n",
    "    \"[Self-disclosure]\",\n",
    "    \"[Affirmation and Reassurance]\",\n",
    "    \"[Providing Suggestions]\",\n",
    "    \"[Information]\",\n",
    "    \"[Others]\"\n",
    "]"
   ]
  },
  {
   "cell_type": "code",
   "execution_count": 6,
   "metadata": {},
   "outputs": [],
   "source": [
    "results = list(jsonlines.open(\"./GeneratedDataset/Ashokajou51_esconv-tinyllama-plm_epoch-3.json\"))"
   ]
  },
  {
   "cell_type": "code",
   "execution_count": 7,
   "metadata": {},
   "outputs": [
    {
     "name": "stdout",
     "output_type": "stream",
     "text": [
      "acc: 0.20303468208092484\n",
      "error: 0.0\n",
      "macro F1 0.14784507476578185\n"
     ]
    },
    {
     "ename": "IndexError",
     "evalue": "list index out of range",
     "output_type": "error",
     "traceback": [
      "\u001b[0;31m---------------------------------------------------------------------------\u001b[0m",
      "\u001b[0;31mIndexError\u001b[0m                                Traceback (most recent call last)",
      "Cell \u001b[0;32mIn[7], line 29\u001b[0m\n\u001b[1;32m     26\u001b[0m \u001b[38;5;28mprint\u001b[39m(\u001b[38;5;124mf\u001b[39m\u001b[38;5;124m\"\u001b[39m\u001b[38;5;124merror: \u001b[39m\u001b[38;5;132;01m{\u001b[39;00merror\u001b[38;5;250m \u001b[39m\u001b[38;5;241m/\u001b[39m\u001b[38;5;250m \u001b[39m\u001b[38;5;28mlen\u001b[39m(results)\u001b[38;5;132;01m}\u001b[39;00m\u001b[38;5;124m\"\u001b[39m)\n\u001b[1;32m     27\u001b[0m \u001b[38;5;28mprint\u001b[39m(\u001b[38;5;124m\"\u001b[39m\u001b[38;5;124mmacro F1\u001b[39m\u001b[38;5;124m\"\u001b[39m, f1_score(preds, gts, average\u001b[38;5;241m=\u001b[39m\u001b[38;5;124m\"\u001b[39m\u001b[38;5;124mmacro\u001b[39m\u001b[38;5;124m\"\u001b[39m))\n\u001b[0;32m---> 29\u001b[0m predictions \u001b[38;5;241m=\u001b[39m [\u001b[43mx\u001b[49m\u001b[43m[\u001b[49m\u001b[38;5;124;43m'\u001b[39;49m\u001b[38;5;124;43mprediction\u001b[39;49m\u001b[38;5;124;43m'\u001b[39;49m\u001b[43m]\u001b[49m\u001b[38;5;241;43m.\u001b[39;49m\u001b[43msplit\u001b[49m\u001b[43m(\u001b[49m\u001b[38;5;124;43m'\u001b[39;49m\u001b[38;5;124;43m]\u001b[39;49m\u001b[38;5;124;43m'\u001b[39;49m\u001b[43m,\u001b[49m\u001b[43m \u001b[49m\u001b[38;5;241;43m1\u001b[39;49m\u001b[43m)\u001b[49m\u001b[43m[\u001b[49m\u001b[38;5;241;43m1\u001b[39;49m\u001b[43m]\u001b[49m\u001b[38;5;241m.\u001b[39mreplace(\u001b[38;5;124m\"\u001b[39m\u001b[38;5;124m</s>\u001b[39m\u001b[38;5;124m\"\u001b[39m, \u001b[38;5;124m\"\u001b[39m\u001b[38;5;124m\"\u001b[39m) \u001b[38;5;28;01mfor\u001b[39;00m x \u001b[38;5;129;01min\u001b[39;00m results]\n\u001b[1;32m     30\u001b[0m references \u001b[38;5;241m=\u001b[39m [x[\u001b[38;5;124m'\u001b[39m\u001b[38;5;124mcontent\u001b[39m\u001b[38;5;124m'\u001b[39m]\u001b[38;5;241m.\u001b[39msplit(\u001b[38;5;124m'\u001b[39m\u001b[38;5;124m]\u001b[39m\u001b[38;5;124m'\u001b[39m, \u001b[38;5;241m1\u001b[39m)[\u001b[38;5;241m1\u001b[39m] \u001b[38;5;28;01mfor\u001b[39;00m x \u001b[38;5;129;01min\u001b[39;00m results]\n\u001b[1;32m     33\u001b[0m metrics \u001b[38;5;241m=\u001b[39m [\n\u001b[1;32m     34\u001b[0m     load_metric(\u001b[38;5;124m\"\u001b[39m\u001b[38;5;124mbleu\u001b[39m\u001b[38;5;124m\"\u001b[39m, resulting_name\u001b[38;5;241m=\u001b[39m\u001b[38;5;124m\"\u001b[39m\u001b[38;5;124mbleu_1\u001b[39m\u001b[38;5;124m\"\u001b[39m, compute_kwargs\u001b[38;5;241m=\u001b[39m{\u001b[38;5;124m\"\u001b[39m\u001b[38;5;124mmax_order\u001b[39m\u001b[38;5;124m\"\u001b[39m: \u001b[38;5;241m1\u001b[39m}),\n\u001b[1;32m     35\u001b[0m     load_metric(\u001b[38;5;124m\"\u001b[39m\u001b[38;5;124mbleu\u001b[39m\u001b[38;5;124m\"\u001b[39m, resulting_name\u001b[38;5;241m=\u001b[39m\u001b[38;5;124m\"\u001b[39m\u001b[38;5;124mbleu_2\u001b[39m\u001b[38;5;124m\"\u001b[39m, compute_kwargs\u001b[38;5;241m=\u001b[39m{\u001b[38;5;124m\"\u001b[39m\u001b[38;5;124mmax_order\u001b[39m\u001b[38;5;124m\"\u001b[39m: \u001b[38;5;241m2\u001b[39m}),\n\u001b[1;32m     36\u001b[0m     load_metric(\u001b[38;5;124m\"\u001b[39m\u001b[38;5;124mrouge\u001b[39m\u001b[38;5;124m\"\u001b[39m),\n\u001b[1;32m     37\u001b[0m     load_metric(\u001b[38;5;124m\"\u001b[39m\u001b[38;5;124mf1\u001b[39m\u001b[38;5;124m\"\u001b[39m),\n\u001b[1;32m     38\u001b[0m     ]\n",
      "\u001b[0;31mIndexError\u001b[0m: list index out of range"
     ]
    }
   ],
   "source": [
    "acc = 0\n",
    "error = 0\n",
    "\n",
    "preds=[]\n",
    "gts=[]\n",
    "\n",
    "def get_strategy(x):\n",
    "  y = x.split(\"]\", 1)[0] + \"]\"\n",
    "  if y in ESCONV_STRATEGY:\n",
    "    return y, ESCONV_STRATEGY.index(y)\n",
    "  else:\n",
    "    return \"Error\", -1\n",
    "\n",
    "for r in results:\n",
    "  prediction = r[\"prediction\"]\n",
    "  response = r[\"content\"]\n",
    "\n",
    "  (pred_strat, pred_strat_id), (gt_strat, gt_strat_id) = get_strategy(prediction), get_strategy(response)\n",
    "  if gt_strat_id >= 0 and pred_strat == gt_strat:\n",
    "    acc += 1\n",
    "\n",
    "  preds.append(pred_strat_id)\n",
    "  gts.append(gt_strat_id)\n",
    "\n",
    "print(f\"acc: {acc / len(results)}\")\n",
    "print(f\"error: {error / len(results)}\")\n",
    "print(\"macro F1\", f1_score(preds, gts, average=\"macro\"))\n",
    "\n",
    "predictions = [x['prediction'].split(']', 1)[1].replace(\"</s>\", \"\") for x in results]\n",
    "references = [x['content'].split(']', 1)[1] for x in results]\n",
    "\n",
    "\n",
    "metrics = [\n",
    "    load_metric(\"bleu\", resulting_name=\"bleu_1\", compute_kwargs={\"max_order\": 1}),\n",
    "    load_metric(\"bleu\", resulting_name=\"bleu_2\", compute_kwargs={\"max_order\": 2}),\n",
    "    load_metric(\"rouge\"),\n",
    "    load_metric(\"f1\"),\n",
    "    ]\n",
    "scorer = NLGMetricverse(metrics=metrics)\n",
    "scores = scorer(predictions=predictions, references=references, reduce_fn=\"mean\")\n",
    "print(json.dumps(scores, indent=4))"
   ]
  },
  {
   "cell_type": "code",
   "execution_count": 8,
   "metadata": {},
   "outputs": [
    {
     "name": "stdout",
     "output_type": "stream",
     "text": [
      "acc: 0.20303468208092484\n",
      "error: 0.0\n",
      "macro F1 0.14784507476578185\n"
     ]
    },
    {
     "ename": "IndexError",
     "evalue": "list index out of range",
     "output_type": "error",
     "traceback": [
      "\u001b[0;31m---------------------------------------------------------------------------\u001b[0m",
      "\u001b[0;31mIndexError\u001b[0m                                Traceback (most recent call last)",
      "Cell \u001b[0;32mIn[8], line 29\u001b[0m\n\u001b[1;32m     26\u001b[0m \u001b[38;5;28mprint\u001b[39m(\u001b[38;5;124mf\u001b[39m\u001b[38;5;124m\"\u001b[39m\u001b[38;5;124merror: \u001b[39m\u001b[38;5;132;01m{\u001b[39;00merror\u001b[38;5;250m \u001b[39m\u001b[38;5;241m/\u001b[39m\u001b[38;5;250m \u001b[39m\u001b[38;5;28mlen\u001b[39m(results)\u001b[38;5;132;01m}\u001b[39;00m\u001b[38;5;124m\"\u001b[39m)\n\u001b[1;32m     27\u001b[0m \u001b[38;5;28mprint\u001b[39m(\u001b[38;5;124m\"\u001b[39m\u001b[38;5;124mmacro F1\u001b[39m\u001b[38;5;124m\"\u001b[39m, f1_score(preds, gts, average\u001b[38;5;241m=\u001b[39m\u001b[38;5;124m\"\u001b[39m\u001b[38;5;124mmacro\u001b[39m\u001b[38;5;124m\"\u001b[39m))\n\u001b[0;32m---> 29\u001b[0m predictions \u001b[38;5;241m=\u001b[39m [\u001b[43mx\u001b[49m\u001b[43m[\u001b[49m\u001b[38;5;124;43m'\u001b[39;49m\u001b[38;5;124;43mprediction\u001b[39;49m\u001b[38;5;124;43m'\u001b[39;49m\u001b[43m]\u001b[49m\u001b[38;5;241;43m.\u001b[39;49m\u001b[43msplit\u001b[49m\u001b[43m(\u001b[49m\u001b[38;5;124;43m'\u001b[39;49m\u001b[38;5;124;43m]\u001b[39;49m\u001b[38;5;124;43m'\u001b[39;49m\u001b[43m,\u001b[49m\u001b[43m \u001b[49m\u001b[38;5;241;43m1\u001b[39;49m\u001b[43m)\u001b[49m\u001b[43m[\u001b[49m\u001b[38;5;241;43m1\u001b[39;49m\u001b[43m]\u001b[49m\u001b[38;5;241m.\u001b[39mreplace(\u001b[38;5;124m\"\u001b[39m\u001b[38;5;124m</s>\u001b[39m\u001b[38;5;124m\"\u001b[39m, \u001b[38;5;124m\"\u001b[39m\u001b[38;5;124m\"\u001b[39m) \u001b[38;5;28;01mfor\u001b[39;00m x \u001b[38;5;129;01min\u001b[39;00m results]\n\u001b[1;32m     30\u001b[0m references \u001b[38;5;241m=\u001b[39m [x[\u001b[38;5;124m'\u001b[39m\u001b[38;5;124mcontent\u001b[39m\u001b[38;5;124m'\u001b[39m]\u001b[38;5;241m.\u001b[39msplit(\u001b[38;5;124m'\u001b[39m\u001b[38;5;124m]\u001b[39m\u001b[38;5;124m'\u001b[39m, \u001b[38;5;241m1\u001b[39m)[\u001b[38;5;241m1\u001b[39m] \u001b[38;5;28;01mfor\u001b[39;00m x \u001b[38;5;129;01min\u001b[39;00m results]\n\u001b[1;32m     33\u001b[0m metrics \u001b[38;5;241m=\u001b[39m [\n\u001b[1;32m     34\u001b[0m     load_metric(\u001b[38;5;124m\"\u001b[39m\u001b[38;5;124mbleu\u001b[39m\u001b[38;5;124m\"\u001b[39m, resulting_name\u001b[38;5;241m=\u001b[39m\u001b[38;5;124m\"\u001b[39m\u001b[38;5;124mbleu_1\u001b[39m\u001b[38;5;124m\"\u001b[39m, compute_kwargs\u001b[38;5;241m=\u001b[39m{\u001b[38;5;124m\"\u001b[39m\u001b[38;5;124mmax_order\u001b[39m\u001b[38;5;124m\"\u001b[39m: \u001b[38;5;241m1\u001b[39m}),\n\u001b[1;32m     35\u001b[0m     load_metric(\u001b[38;5;124m\"\u001b[39m\u001b[38;5;124mbleu\u001b[39m\u001b[38;5;124m\"\u001b[39m, resulting_name\u001b[38;5;241m=\u001b[39m\u001b[38;5;124m\"\u001b[39m\u001b[38;5;124mbleu_2\u001b[39m\u001b[38;5;124m\"\u001b[39m, compute_kwargs\u001b[38;5;241m=\u001b[39m{\u001b[38;5;124m\"\u001b[39m\u001b[38;5;124mmax_order\u001b[39m\u001b[38;5;124m\"\u001b[39m: \u001b[38;5;241m2\u001b[39m}),\n\u001b[1;32m     36\u001b[0m     load_metric(\u001b[38;5;124m\"\u001b[39m\u001b[38;5;124mrouge\u001b[39m\u001b[38;5;124m\"\u001b[39m),\n\u001b[1;32m     37\u001b[0m     load_metric(\u001b[38;5;124m\"\u001b[39m\u001b[38;5;124mf1\u001b[39m\u001b[38;5;124m\"\u001b[39m),\n\u001b[1;32m     38\u001b[0m     ]\n",
      "\u001b[0;31mIndexError\u001b[0m: list index out of range"
     ]
    }
   ],
   "source": [
    "acc = 0\n",
    "error = 0\n",
    "\n",
    "preds=[]\n",
    "gts=[]\n",
    "\n",
    "def get_strategy(x):\n",
    "  y = x.split(\"]\", 1)[0] + \"]\"\n",
    "  if y in ESCONV_STRATEGY:\n",
    "    return y, ESCONV_STRATEGY.index(y)\n",
    "  else:\n",
    "    return \"Error\", -1\n",
    "\n",
    "for r in results:\n",
    "  prediction = r[\"prediction\"]\n",
    "  response = r[\"content\"]\n",
    "\n",
    "  (pred_strat, pred_strat_id), (gt_strat, gt_strat_id) = get_strategy(prediction), get_strategy(response)\n",
    "  if gt_strat_id >= 0 and pred_strat == gt_strat:\n",
    "    acc += 1\n",
    "\n",
    "  preds.append(pred_strat_id)\n",
    "  gts.append(gt_strat_id)\n",
    "\n",
    "print(f\"acc: {acc / len(results)}\")\n",
    "print(f\"error: {error / len(results)}\")\n",
    "print(\"macro F1\", f1_score(preds, gts, average=\"macro\"))\n",
    "\n",
    "predictions = [x['prediction'].split(']', 1)[1].replace(\"</s>\", \"\") for x in results]\n",
    "references = [x['content'].split(']', 1)[1] for x in results]\n",
    "\n",
    "\n",
    "metrics = [\n",
    "    load_metric(\"bleu\", resulting_name=\"bleu_1\", compute_kwargs={\"max_order\": 1}),\n",
    "    load_metric(\"bleu\", resulting_name=\"bleu_2\", compute_kwargs={\"max_order\": 2}),\n",
    "    load_metric(\"rouge\"),\n",
    "    load_metric(\"f1\"),\n",
    "    ]\n",
    "scorer = NLGMetricverse(metrics=metrics)\n",
    "scores = scorer(predictions=predictions, references=references, reduce_fn=\"mean\")\n",
    "print(json.dumps(scores, indent=4))"
   ]
  },
  {
   "cell_type": "code",
   "execution_count": 12,
   "metadata": {},
   "outputs": [
    {
     "data": {
      "text/plain": [
       "' Why are you sad? Would you like to talk about it?'"
      ]
     },
     "execution_count": 12,
     "metadata": {},
     "output_type": "execute_result"
    }
   ],
   "source": [
    "predictions[0]"
   ]
  }
 ],
 "metadata": {
  "kernelspec": {
   "display_name": "base",
   "language": "python",
   "name": "python3"
  },
  "language_info": {
   "codemirror_mode": {
    "name": "ipython",
    "version": 3
   },
   "file_extension": ".py",
   "mimetype": "text/x-python",
   "name": "python",
   "nbconvert_exporter": "python",
   "pygments_lexer": "ipython3",
   "version": "3.12.2"
  }
 },
 "nbformat": 4,
 "nbformat_minor": 2
}
