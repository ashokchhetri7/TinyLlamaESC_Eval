{
 "cells": [
  {
   "cell_type": "code",
   "execution_count": 1,
   "metadata": {},
   "outputs": [
    {
     "name": "stderr",
     "output_type": "stream",
     "text": [
      "/hdd1/ashok/.conda/envs/straashok/lib/python3.12/site-packages/tqdm/auto.py:21: TqdmWarning: IProgress not found. Please update jupyter and ipywidgets. See https://ipywidgets.readthedocs.io/en/stable/user_install.html\n",
      "  from .autonotebook import tqdm as notebook_tqdm\n"
     ]
    }
   ],
   "source": [
    "#!pip install nlgmetricverse jsonlines\n",
    "import json, jsonlines\n",
    "from nlgmetricverse import NLGMetricverse, load_metric\n",
    "from sklearn.metrics import f1_score\n",
    "\n",
    "ESCONV_STRATEGY = [\n",
    "    \"[Question]\",\n",
    "    \"[Restatement or Paraphrasing]\",\n",
    "    \"[Reflection of feelings]\",\n",
    "    \"[Self-disclosure]\",\n",
    "    \"[Affirmation and Reassurance]\",\n",
    "    \"[Providing Suggestions]\",\n",
    "    \"[Information]\",\n",
    "    \"[Others]\"\n",
    "]"
   ]
  },
  {
   "cell_type": "code",
   "execution_count": 2,
   "metadata": {},
   "outputs": [],
   "source": [
    "results = list(jsonlines.open(\"Ashokajou51_esconv-sorted-incontext-tinyllama-plm_epoch-2.json\"))"
   ]
  },
  {
   "cell_type": "code",
   "execution_count": 3,
   "metadata": {},
   "outputs": [
    {
     "name": "stdout",
     "output_type": "stream",
     "text": [
      "acc: 0.27505827505827507\n",
      "error: 0.0\n",
      "macro F1 0.171417919594705\n",
      "{\n",
      "    \"total_items\": 429,\n",
      "    \"empty_items\": 0,\n",
      "    \"total_time_elapsed\": 0.32628560066223145,\n",
      "    \"bleu_1\": {\n",
      "        \"score\": 0.0978794759604615,\n",
      "        \"precisions\": [\n",
      "            0.23271710424110612\n",
      "        ],\n",
      "        \"brevity_penalty\": 0.4205942501718896,\n",
      "        \"length_ratio\": 0.5358807858807859,\n",
      "        \"translation_length\": 6437,\n",
      "        \"reference_length\": 12012,\n",
      "        \"time_elapsed\": 0.028853178024291992\n",
      "    },\n",
      "    \"bleu_2\": {\n",
      "        \"score\": 0.022669563247990125,\n",
      "        \"precisions\": [\n",
      "            0.23271710424110612,\n",
      "            0.012483355525965379\n",
      "        ],\n",
      "        \"brevity_penalty\": 0.4205942501718896,\n",
      "        \"length_ratio\": 0.5358807858807859,\n",
      "        \"translation_length\": 6437,\n",
      "        \"reference_length\": 12012,\n",
      "        \"time_elapsed\": 0.028918981552124023\n",
      "    },\n",
      "    \"rouge\": {\n",
      "        \"rouge1\": 0.15713282550957855,\n",
      "        \"rouge2\": 0.007576935885583864,\n",
      "        \"rougeL\": 0.1090242706026532,\n",
      "        \"rougeLsum\": 0.10922737027771201,\n",
      "        \"time_elapsed\": 0.2393496036529541\n",
      "    },\n",
      "    \"f1\": {\n",
      "        \"score\": 0.1686696922731342,\n",
      "        \"time_elapsed\": 0.029163837432861328\n",
      "    }\n",
      "}\n"
     ]
    }
   ],
   "source": [
    "acc = 0\n",
    "error = 0\n",
    "\n",
    "preds=[]\n",
    "gts=[]\n",
    "\n",
    "def get_strategy(x):\n",
    "  y = x.split(\"]\", 1)[0] + \"]\"\n",
    "  if y in ESCONV_STRATEGY:\n",
    "    return y, ESCONV_STRATEGY.index(y)\n",
    "  else:\n",
    "    return \"Error\", -1\n",
    "\n",
    "for r in results:\n",
    "  prediction = r[\"prediction\"]\n",
    "  response = r[\"context\"][-1][\"content\"]\n",
    "\n",
    "  (pred_strat, pred_strat_id), (gt_strat, gt_strat_id) = get_strategy(prediction), get_strategy(response)\n",
    "  if gt_strat_id >= 0 and pred_strat == gt_strat:\n",
    "    acc += 1\n",
    "\n",
    "  preds.append(pred_strat_id)\n",
    "  gts.append(gt_strat_id)\n",
    "\n",
    "print(f\"acc: {acc / len(results)}\")\n",
    "print(f\"error: {error / len(results)}\")\n",
    "print(\"macro F1\", f1_score(preds, gts, average=\"macro\"))\n",
    "\n",
    "predictions = [x['prediction'].split(']', 1)[1].replace(\"</s>\", \"\") for x in results]\n",
    "references = [response for x in results]\n",
    "\n",
    "\n",
    "metrics = [\n",
    "    load_metric(\"bleu\", resulting_name=\"bleu_1\", compute_kwargs={\"max_order\": 1}),\n",
    "    load_metric(\"bleu\", resulting_name=\"bleu_2\", compute_kwargs={\"max_order\": 2}),\n",
    "    load_metric(\"rouge\"),\n",
    "    load_metric(\"f1\"),\n",
    "    ]\n",
    "scorer = NLGMetricverse(metrics=metrics)\n",
    "scores = scorer(predictions=predictions, references=references, reduce_fn=\"mean\")\n",
    "print(json.dumps(scores, indent=4))"
   ]
  },
  {
   "cell_type": "code",
   "execution_count": 4,
   "metadata": {},
   "outputs": [
    {
     "data": {
      "text/plain": [
       "' Hello, how are you doing today?'"
      ]
     },
     "execution_count": 4,
     "metadata": {},
     "output_type": "execute_result"
    }
   ],
   "source": [
    "predictions[0]"
   ]
  }
 ],
 "metadata": {
  "kernelspec": {
   "display_name": "base",
   "language": "python",
   "name": "python3"
  },
  "language_info": {
   "codemirror_mode": {
    "name": "ipython",
    "version": 3
   },
   "file_extension": ".py",
   "mimetype": "text/x-python",
   "name": "python",
   "nbconvert_exporter": "python",
   "pygments_lexer": "ipython3",
   "version": "3.12.2"
  }
 },
 "nbformat": 4,
 "nbformat_minor": 2
}
