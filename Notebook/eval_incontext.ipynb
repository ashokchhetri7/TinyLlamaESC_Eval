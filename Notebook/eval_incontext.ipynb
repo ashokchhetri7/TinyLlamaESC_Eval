{
 "cells": [
  {
   "cell_type": "code",
   "execution_count": 10,
   "metadata": {},
   "outputs": [],
   "source": [
    "import json, jsonlines\n",
    "from nlgmetricverse import NLGMetricverse, load_metric\n",
    "from sklearn.metrics import f1_score\n",
    "\n",
    "ESCONV_STRATEGY = [\n",
    "    \"[Question]\",\n",
    "    \"[Restatement or Paraphrasing]\",\n",
    "    \"[Reflection of feelings]\",\n",
    "    \"[Self-disclosure]\",\n",
    "    \"[Affirmation and Reassurance]\",\n",
    "    \"[Providing Suggestions]\",\n",
    "    \"[Information]\",\n",
    "    \"[Others]\"\n",
    "]"
   ]
  },
  {
   "cell_type": "code",
   "execution_count": 11,
   "metadata": {},
   "outputs": [],
   "source": [
    "results = list(jsonlines.open(\"./GeneratedDataset/Ashokajou51_esconv-sorted-incontext-tinyllama-plm_epoch-2.json\"))"
   ]
  },
  {
   "cell_type": "code",
   "execution_count": 13,
   "metadata": {},
   "outputs": [
    {
     "ename": "KeyError",
     "evalue": "'content'",
     "output_type": "error",
     "traceback": [
      "\u001b[0;31m---------------------------------------------------------------------------\u001b[0m",
      "\u001b[0;31mKeyError\u001b[0m                                  Traceback (most recent call last)",
      "Cell \u001b[0;32mIn[13], line 23\u001b[0m\n\u001b[1;32m     21\u001b[0m \u001b[38;5;28;01mfor\u001b[39;00m r \u001b[38;5;129;01min\u001b[39;00m results:\n\u001b[1;32m     22\u001b[0m     prediction \u001b[38;5;241m=\u001b[39m r[\u001b[38;5;124m\"\u001b[39m\u001b[38;5;124mprediction\u001b[39m\u001b[38;5;124m\"\u001b[39m]\u001b[38;5;241m.\u001b[39mreplace(\u001b[38;5;124m\"\u001b[39m\u001b[38;5;124m</s>\u001b[39m\u001b[38;5;124m\"\u001b[39m, \u001b[38;5;124m\"\u001b[39m\u001b[38;5;124m\"\u001b[39m)\n\u001b[0;32m---> 23\u001b[0m     response \u001b[38;5;241m=\u001b[39m [\u001b[43mr\u001b[49m\u001b[43m[\u001b[49m\u001b[38;5;124;43m\"\u001b[39;49m\u001b[38;5;124;43mcontent\u001b[39;49m\u001b[38;5;124;43m\"\u001b[39;49m\u001b[43m]\u001b[49m\u001b[38;5;241m.\u001b[39mreplace(\u001b[38;5;124m\"\u001b[39m\u001b[38;5;124m|assistant|>\u001b[39m\u001b[38;5;124m\"\u001b[39m, \u001b[38;5;124m\"\u001b[39m\u001b[38;5;124m\"\u001b[39m) \u001b[38;5;28;01mfor\u001b[39;00m r \u001b[38;5;129;01min\u001b[39;00m results]\n\u001b[1;32m     25\u001b[0m     \u001b[38;5;66;03m# prediction_clean = clean_string(prediction)\u001b[39;00m\n\u001b[1;32m     26\u001b[0m     \u001b[38;5;66;03m# response_clean = clean_string(response)\u001b[39;00m\n\u001b[1;32m     28\u001b[0m     (pred_strat, pred_strat_id), (gt_strat, gt_strat_id) \u001b[38;5;241m=\u001b[39m get_strategy(prediction), get_strategy(response)\n",
      "\u001b[0;31mKeyError\u001b[0m: 'content'"
     ]
    }
   ],
   "source": [
    "acc = 0\n",
    "error = 0\n",
    "\n",
    "preds = []\n",
    "gts = []\n",
    "\n",
    "def get_strategy(x):\n",
    "    if \"]\" in x:\n",
    "        y = x.split(\"]\", 1)[0] + \"]\"\n",
    "        if y in ESCONV_STRATEGY:\n",
    "            return y, ESCONV_STRATEGY.index(y)\n",
    "    return \"Error\", -1\n",
    "\n",
    "def clean_string(s):\n",
    "    if \"[Others]\" in s:\n",
    "        return s.split(\"[Others]\", 1)[1]\n",
    "    elif \"[Question]\" in s:\n",
    "        return s.split(\"[Question]\", 1)[1]\n",
    "    return s.split(\"]\", 1)[1] if \"]\" in s else s\n",
    "\n",
    "for r in results:\n",
    "    prediction = r[\"prediction\"].replace(\"</s>\", \"\")\n",
    "    response = [r[\"content\"].replace(\"|assistant|>\", \"\") for r in results]\n",
    "\n",
    "    # prediction_clean = clean_string(prediction)\n",
    "    # response_clean = clean_string(response)\n",
    "\n",
    "    (pred_strat, pred_strat_id), (gt_strat, gt_strat_id) = get_strategy(prediction), get_strategy(response)\n",
    "    if gt_strat_id >= 0 and pred_strat == gt_strat:\n",
    "        acc += 1\n",
    "\n",
    "    preds.append(pred_strat_id)\n",
    "    gts.append(gt_strat_id)\n",
    "\n",
    "print(f\"acc: {acc / len(results)}\")\n",
    "print(f\"error: {error / len(results)}\")\n",
    "print(\"macro F1\", f1_score(preds, gts, average=\"macro\"))\n",
    "\n",
    "predictions = [clean_string(x['prediction']).replace(\"</s>\", \"\") for x in results]\n",
    "references = [clean_string(x['content']) for x in results]\n",
    "\n",
    "metrics = [\n",
    "    load_metric(\"bleu\", resulting_name=\"bleu_1\", compute_kwargs={\"max_order\": 1}),\n",
    "    load_metric(\"bleu\", resulting_name=\"bleu_2\", compute_kwargs={\"max_order\": 2}),\n",
    "    load_metric(\"bleu\", resulting_name=\"bleu_4\", compute_kwargs={\"max_order\": 4}),\n",
    "    load_metric(\"rouge\"),\n",
    "    load_metric(\"f1\"),\n",
    "]\n",
    "scorer = NLGMetricverse(metrics=metrics)\n",
    "scores = scorer(predictions=predictions, references=references, reduce_fn=\"mean\")\n",
    "print(json.dumps(scores, indent=4))\n"
   ]
  },
  {
   "cell_type": "code",
   "execution_count": 6,
   "metadata": {},
   "outputs": [
    {
     "data": {
      "text/plain": [
       "' What would you like to talk about?'"
      ]
     },
     "execution_count": 6,
     "metadata": {},
     "output_type": "execute_result"
    }
   ],
   "source": [
    "predictions[0]"
   ]
  }
 ],
 "metadata": {
  "kernelspec": {
   "display_name": "base",
   "language": "python",
   "name": "python3"
  },
  "language_info": {
   "codemirror_mode": {
    "name": "ipython",
    "version": 3
   },
   "file_extension": ".py",
   "mimetype": "text/x-python",
   "name": "python",
   "nbconvert_exporter": "python",
   "pygments_lexer": "ipython3",
   "version": "3.12.2"
  }
 },
 "nbformat": 4,
 "nbformat_minor": 2
}
